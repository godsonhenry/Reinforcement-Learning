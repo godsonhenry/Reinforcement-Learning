{
  "nbformat": 4,
  "nbformat_minor": 0,
  "metadata": {
    "colab": {
      "name": "reinforce learning - MABP.ipynb",
      "provenance": [],
      "authorship_tag": "ABX9TyNSPxJlarMAUF79O2p555+6",
      "include_colab_link": true
    },
    "kernelspec": {
      "name": "python3",
      "display_name": "Python 3"
    },
    "language_info": {
      "name": "python"
    }
  },
  "cells": [
    {
      "cell_type": "markdown",
      "metadata": {
        "id": "view-in-github",
        "colab_type": "text"
      },
      "source": [
        "<a href=\"https://colab.research.google.com/github/godsonhenry/Reinforcement-Learning/blob/main/reinforce_learning_MABP.ipynb\" target=\"_parent\"><img src=\"https://colab.research.google.com/assets/colab-badge.svg\" alt=\"Open In Colab\"/></a>"
      ]
    },
    {
      "cell_type": "markdown",
      "metadata": {
        "id": "bsLwEk4sXP9s"
      },
      "source": [
        "The code is based on instruction on https://www.analyticsvidhya.com/blog/2018/09/reinforcement-multi-armed-bandit-scratch-python/"
      ]
    },
    {
      "cell_type": "markdown",
      "metadata": {
        "id": "FXCsOrclXYYv"
      },
      "source": [
        "1） random search"
      ]
    },
    {
      "cell_type": "code",
      "metadata": {
        "id": "DPAOs4erXLgB"
      },
      "source": [
        "import numpy as np\n",
        "import matplotlib.pyplot as plt\n",
        "import pandas as pd\n",
        "import random\n",
        "import math"
      ],
      "execution_count": 24,
      "outputs": []
    },
    {
      "cell_type": "code",
      "metadata": {
        "id": "HWb2CMs-YLEU"
      },
      "source": [
        "dataset = pd.read_csv('Ads_Optimisation.csv')"
      ],
      "execution_count": 13,
      "outputs": []
    },
    {
      "cell_type": "code",
      "metadata": {
        "colab": {
          "base_uri": "https://localhost:8080/",
          "height": 195
        },
        "id": "KImjRYDiYLj0",
        "outputId": "8ef1ba85-6598-4503-f2c4-43bbb1af57c3"
      },
      "source": [
        "dataset.head()"
      ],
      "execution_count": 15,
      "outputs": [
        {
          "output_type": "execute_result",
          "data": {
            "text/html": [
              "<div>\n",
              "<style scoped>\n",
              "    .dataframe tbody tr th:only-of-type {\n",
              "        vertical-align: middle;\n",
              "    }\n",
              "\n",
              "    .dataframe tbody tr th {\n",
              "        vertical-align: top;\n",
              "    }\n",
              "\n",
              "    .dataframe thead th {\n",
              "        text-align: right;\n",
              "    }\n",
              "</style>\n",
              "<table border=\"1\" class=\"dataframe\">\n",
              "  <thead>\n",
              "    <tr style=\"text-align: right;\">\n",
              "      <th></th>\n",
              "      <th>Ad 1</th>\n",
              "      <th>Ad 2</th>\n",
              "      <th>Ad 3</th>\n",
              "      <th>Ad 4</th>\n",
              "      <th>Ad 5</th>\n",
              "      <th>Ad 6</th>\n",
              "      <th>Ad 7</th>\n",
              "      <th>Ad 8</th>\n",
              "      <th>Ad 9</th>\n",
              "      <th>Ad 10</th>\n",
              "    </tr>\n",
              "  </thead>\n",
              "  <tbody>\n",
              "    <tr>\n",
              "      <th>0</th>\n",
              "      <td>1</td>\n",
              "      <td>0</td>\n",
              "      <td>0</td>\n",
              "      <td>0</td>\n",
              "      <td>1</td>\n",
              "      <td>0</td>\n",
              "      <td>0</td>\n",
              "      <td>0</td>\n",
              "      <td>1</td>\n",
              "      <td>0</td>\n",
              "    </tr>\n",
              "    <tr>\n",
              "      <th>1</th>\n",
              "      <td>0</td>\n",
              "      <td>0</td>\n",
              "      <td>0</td>\n",
              "      <td>0</td>\n",
              "      <td>0</td>\n",
              "      <td>0</td>\n",
              "      <td>0</td>\n",
              "      <td>0</td>\n",
              "      <td>1</td>\n",
              "      <td>0</td>\n",
              "    </tr>\n",
              "    <tr>\n",
              "      <th>2</th>\n",
              "      <td>0</td>\n",
              "      <td>0</td>\n",
              "      <td>0</td>\n",
              "      <td>0</td>\n",
              "      <td>0</td>\n",
              "      <td>0</td>\n",
              "      <td>0</td>\n",
              "      <td>0</td>\n",
              "      <td>0</td>\n",
              "      <td>0</td>\n",
              "    </tr>\n",
              "    <tr>\n",
              "      <th>3</th>\n",
              "      <td>0</td>\n",
              "      <td>1</td>\n",
              "      <td>0</td>\n",
              "      <td>0</td>\n",
              "      <td>0</td>\n",
              "      <td>0</td>\n",
              "      <td>0</td>\n",
              "      <td>1</td>\n",
              "      <td>0</td>\n",
              "      <td>0</td>\n",
              "    </tr>\n",
              "    <tr>\n",
              "      <th>4</th>\n",
              "      <td>0</td>\n",
              "      <td>0</td>\n",
              "      <td>0</td>\n",
              "      <td>0</td>\n",
              "      <td>0</td>\n",
              "      <td>0</td>\n",
              "      <td>0</td>\n",
              "      <td>0</td>\n",
              "      <td>0</td>\n",
              "      <td>0</td>\n",
              "    </tr>\n",
              "  </tbody>\n",
              "</table>\n",
              "</div>"
            ],
            "text/plain": [
              "   Ad 1  Ad 2  Ad 3  Ad 4  Ad 5  Ad 6  Ad 7  Ad 8  Ad 9  Ad 10\n",
              "0     1     0     0     0     1     0     0     0     1      0\n",
              "1     0     0     0     0     0     0     0     0     1      0\n",
              "2     0     0     0     0     0     0     0     0     0      0\n",
              "3     0     1     0     0     0     0     0     1     0      0\n",
              "4     0     0     0     0     0     0     0     0     0      0"
            ]
          },
          "metadata": {
            "tags": []
          },
          "execution_count": 15
        }
      ]
    },
    {
      "cell_type": "code",
      "metadata": {
        "id": "e932IWuspGhy"
      },
      "source": [
        ""
      ],
      "execution_count": 20,
      "outputs": []
    },
    {
      "cell_type": "code",
      "metadata": {
        "id": "NvPtlmOepTD4"
      },
      "source": [
        "\n",
        "total_reward_list=[]\n",
        "for e in range(0,20):\n",
        "  N = 10000\n",
        "  d = 10\n",
        "  ads_selected = []\n",
        "  total_reward=0\n",
        "  for n in range(0,N):\n",
        "    ad=random.randrange(d)\n",
        "    ads_selected.append(ad)\n",
        "    reward=dataset.values[n,ad]\n",
        "    total_reward=total_reward+reward\n",
        "  total_reward_list.append(total_reward)"
      ],
      "execution_count": 31,
      "outputs": []
    },
    {
      "cell_type": "code",
      "metadata": {
        "colab": {
          "base_uri": "https://localhost:8080/"
        },
        "id": "rTVCnMhnqLD6",
        "outputId": "3ef6212c-36f4-4f6a-ef91-e9ff56effded"
      },
      "source": [
        "total_reward_list"
      ],
      "execution_count": 32,
      "outputs": [
        {
          "output_type": "execute_result",
          "data": {
            "text/plain": [
              "[1211,\n",
              " 1201,\n",
              " 1221,\n",
              " 1248,\n",
              " 1204,\n",
              " 1254,\n",
              " 1245,\n",
              " 1194,\n",
              " 1262,\n",
              " 1207,\n",
              " 1246,\n",
              " 1275,\n",
              " 1165,\n",
              " 1266,\n",
              " 1221,\n",
              " 1233,\n",
              " 1212,\n",
              " 1223,\n",
              " 1239,\n",
              " 1220]"
            ]
          },
          "metadata": {
            "tags": []
          },
          "execution_count": 32
        }
      ]
    },
    {
      "cell_type": "code",
      "metadata": {
        "colab": {
          "base_uri": "https://localhost:8080/"
        },
        "id": "osib5K9wplRY",
        "outputId": "c22927d3-ee8c-45c0-d30f-244bd1aec41d"
      },
      "source": [
        "pd.Series(ads_selected).value_counts(normalize=True)"
      ],
      "execution_count": 23,
      "outputs": [
        {
          "output_type": "execute_result",
          "data": {
            "text/plain": [
              "4    0.1056\n",
              "7    0.1041\n",
              "6    0.1010\n",
              "9    0.1002\n",
              "1    0.0993\n",
              "3    0.0992\n",
              "5    0.0986\n",
              "8    0.0980\n",
              "2    0.0977\n",
              "0    0.0963\n",
              "dtype: float64"
            ]
          },
          "metadata": {
            "tags": []
          },
          "execution_count": 23
        }
      ]
    },
    {
      "cell_type": "markdown",
      "metadata": {
        "id": "WQe3PTDXp7Q8"
      },
      "source": [
        "2) upper confidence bound"
      ]
    },
    {
      "cell_type": "code",
      "metadata": {
        "id": "uDI2PEIOpwIA"
      },
      "source": [
        ""
      ],
      "execution_count": 25,
      "outputs": []
    },
    {
      "cell_type": "code",
      "metadata": {
        "id": "9NFEthsoqGXA"
      },
      "source": [
        "total_reward_list=[]\n",
        "for e in range(0,20):\n",
        "  N = 10000\n",
        "  d = 10\n",
        "  ads_selected = []\n",
        "  numbers_of_selections = [0] * d\n",
        "  sums_of_reward = [0] * d\n",
        "  total_reward = 0\n",
        "  for n in range(0,N):\n",
        "    ad=0\n",
        "    max_upper_bound=0\n",
        "    for i in range(0,d):\n",
        "      if (numbers_of_selections[i])>0:\n",
        "        average_reward=sums_of_reward[i]/numbers_of_selections[i]\n",
        "        delta_i=math.sqrt(2*math.log(n+1)/numbers_of_selections[i])\n",
        "        upper_bound=average_reward+delta_i\n",
        "      else:\n",
        "        upper_bound=1e400\n",
        "      if upper_bound>max_upper_bound:\n",
        "        max_upper_bound=upper_bound\n",
        "        ad=i\n",
        "    ads_selected.append(ad)\n",
        "    numbers_of_selections[ad]+=1\n",
        "    reward = dataset.values[n,ad]\n",
        "    sums_of_reward[ad] += reward\n",
        "    total_reward += reward\n",
        "  total_reward_list.append(total_reward)"
      ],
      "execution_count": 34,
      "outputs": []
    },
    {
      "cell_type": "code",
      "metadata": {
        "colab": {
          "base_uri": "https://localhost:8080/"
        },
        "id": "INfz24KusfZb",
        "outputId": "89f3a7cd-e1f5-4006-e4af-f77f5e762714"
      },
      "source": [
        "total_reward_list"
      ],
      "execution_count": 35,
      "outputs": [
        {
          "output_type": "execute_result",
          "data": {
            "text/plain": [
              "[2125,\n",
              " 2125,\n",
              " 2125,\n",
              " 2125,\n",
              " 2125,\n",
              " 2125,\n",
              " 2125,\n",
              " 2125,\n",
              " 2125,\n",
              " 2125,\n",
              " 2125,\n",
              " 2125,\n",
              " 2125,\n",
              " 2125,\n",
              " 2125,\n",
              " 2125,\n",
              " 2125,\n",
              " 2125,\n",
              " 2125,\n",
              " 2125]"
            ]
          },
          "metadata": {
            "tags": []
          },
          "execution_count": 35
        }
      ]
    },
    {
      "cell_type": "code",
      "metadata": {
        "colab": {
          "base_uri": "https://localhost:8080/"
        },
        "id": "oPEGliB9sknA",
        "outputId": "64b57200-aca0-42a3-f473-d47f188b2879"
      },
      "source": [
        "pd.Series(ads_selected).value_counts(normalize = True)"
      ],
      "execution_count": 38,
      "outputs": [
        {
          "output_type": "execute_result",
          "data": {
            "text/plain": [
              "4    0.5630\n",
              "7    0.1106\n",
              "0    0.0947\n",
              "6    0.0435\n",
              "1    0.0417\n",
              "3    0.0380\n",
              "8    0.0352\n",
              "2    0.0338\n",
              "9    0.0215\n",
              "5    0.0180\n",
              "dtype: float64"
            ]
          },
          "metadata": {
            "tags": []
          },
          "execution_count": 38
        }
      ]
    },
    {
      "cell_type": "code",
      "metadata": {
        "colab": {
          "base_uri": "https://localhost:8080/"
        },
        "id": "GX7yim6LtRGg",
        "outputId": "801fa4b3-8b3f-43a6-f4da-09dba30d6cdf"
      },
      "source": [
        "  N = 100\n",
        "  d = 10\n",
        "  ads_selected = []\n",
        "  numbers_of_selections = [0] * d\n",
        "  sums_of_reward = [0] * d\n",
        "  total_reward = 0\n",
        "  for n in range(0,N):\n",
        "    ad=0\n",
        "    max_upper_bound=0\n",
        "    for i in range(0,d):\n",
        "      if (numbers_of_selections[i])>0:\n",
        "        average_reward=sums_of_reward[i]/numbers_of_selections[i]\n",
        "        delta_i=math.sqrt(2*math.log(n+1)/numbers_of_selections[i])\n",
        "        upper_bound=average_reward+delta_i\n",
        "      else:\n",
        "        upper_bound=99999\n",
        "      if upper_bound>max_upper_bound:\n",
        "        max_upper_bound=upper_bound\n",
        "        ad=i\n",
        "    print(ad)\n",
        "    print(upper_bound)\n",
        "    print(max_upper_bound)\n",
        "    ads_selected.append(ad)\n",
        "    numbers_of_selections[ad]+=1\n",
        "    reward = dataset.values[n,ad]\n",
        "    sums_of_reward[ad] += reward\n",
        "    total_reward += reward"
      ],
      "execution_count": 44,
      "outputs": [
        {
          "output_type": "stream",
          "text": [
            "0\n",
            "99999\n",
            "99999\n",
            "1\n",
            "99999\n",
            "99999\n",
            "2\n",
            "99999\n",
            "99999\n",
            "3\n",
            "99999\n",
            "99999\n",
            "4\n",
            "99999\n",
            "99999\n",
            "5\n",
            "99999\n",
            "99999\n",
            "6\n",
            "99999\n",
            "99999\n",
            "7\n",
            "99999\n",
            "99999\n",
            "8\n",
            "99999\n",
            "99999\n",
            "9\n",
            "99999\n",
            "99999\n",
            "0\n",
            "2.189929347170073\n",
            "3.189929347170073\n",
            "1\n",
            "2.2293078072747154\n",
            "2.2293078072747154\n",
            "2\n",
            "2.2649279712439143\n",
            "2.2649279712439143\n",
            "3\n",
            "2.2974147773596556\n",
            "2.2974147773596556\n",
            "4\n",
            "2.3272516843273356\n",
            "2.3272516843273356\n",
            "5\n",
            "2.3548200450309493\n",
            "2.3548200450309493\n",
            "6\n",
            "2.380425736735434\n",
            "2.380425736735434\n",
            "7\n",
            "2.4043176819614187\n",
            "2.4043176819614187\n",
            "8\n",
            "2.426701044284788\n",
            "2.426701044284788\n",
            "9\n",
            "2.4477468306808166\n",
            "2.4477468306808166\n",
            "0\n",
            "1.7448559934055943\n",
            "2.2448559934055945\n",
            "0\n",
            "1.7581360736183977\n",
            "1.7688454262484519\n",
            "1\n",
            "1.7707326777153998\n",
            "1.7707326777153998\n",
            "2\n",
            "1.782709687623856\n",
            "1.782709687623856\n",
            "3\n",
            "1.7941225779941015\n",
            "1.7941225779941015\n",
            "4\n",
            "1.8050198165176699\n",
            "1.8050198165176699\n",
            "5\n",
            "1.815443985917585\n",
            "1.815443985917585\n",
            "6\n",
            "1.8254326912201402\n",
            "1.8254326912201402\n",
            "7\n",
            "1.835019299622343\n",
            "1.835019299622343\n",
            "8\n",
            "1.8442335485675765\n",
            "1.8442335485675765\n",
            "9\n",
            "1.853102049128743\n",
            "1.853102049128743\n",
            "8\n",
            "1.5200298029533776\n",
            "1.853363136286711\n",
            "0\n",
            "1.5267629288719495\n",
            "1.5722154819594423\n",
            "8\n",
            "1.5332667792692747\n",
            "1.5778479816259392\n",
            "1\n",
            "1.5395557934004673\n",
            "1.5395557934004673\n",
            "2\n",
            "1.5456431106945117\n",
            "1.5456431106945117\n",
            "3\n",
            "1.5515407208415393\n",
            "1.5515407208415393\n",
            "4\n",
            "1.5572595929444746\n",
            "1.5572595929444746\n",
            "5\n",
            "1.5628097871312099\n",
            "1.5628097871312099\n",
            "6\n",
            "1.5682005513993709\n",
            "1.5682005513993709\n",
            "6\n",
            "1.5734404059690998\n",
            "1.6126393629101405\n",
            "7\n",
            "1.5785372170215834\n",
            "1.5785372170215834\n",
            "7\n",
            "1.5834982613807027\n",
            "1.6213497212041796\n",
            "7\n",
            "1.5883302834356716\n",
            "1.6303153472046525\n",
            "9\n",
            "1.5930395453912036\n",
            "1.5930395453912036\n",
            "7\n",
            "1.383589786838768\n",
            "1.4630296636937086\n",
            "0\n",
            "1.3874702882782857\n",
            "1.4409911525405905\n",
            "6\n",
            "1.3912586048085904\n",
            "1.4443795258534096\n",
            "8\n",
            "1.3949588341794583\n",
            "1.4476891116156503\n",
            "1\n",
            "1.3985748112682685\n",
            "1.3985748112682685\n",
            "2\n",
            "1.402110129897849\n",
            "1.402110129897849\n",
            "3\n",
            "1.405568162449162\n",
            "1.405568162449162\n",
            "4\n",
            "1.408952077529985\n",
            "1.408952077529985\n",
            "4\n",
            "1.4122648559254518\n",
            "1.4631680880333027\n",
            "4\n",
            "1.4155093050263694\n",
            "1.4890918411587455\n",
            "4\n",
            "1.418688071905722\n",
            "1.5009988074960743\n",
            "5\n",
            "1.4218036551919802\n",
            "1.4218036551919802\n",
            "9\n",
            "1.424858415869173\n",
            "1.424858415869173\n",
            "4\n",
            "1.277111967511967\n",
            "1.3846456610991946\n",
            "7\n",
            "1.2797413117067216\n",
            "1.3672931002550741\n",
            "0\n",
            "1.2823219352679438\n",
            "1.3372610832165537\n",
            "0\n",
            "1.2848555381902032\n",
            "1.3716154105272338\n",
            "6\n",
            "1.2873437344224008\n",
            "1.3418453376768147\n",
            "8\n",
            "1.289788057528782\n",
            "1.3440766891821414\n",
            "4\n",
            "1.2921899658944325\n",
            "1.2964748678610287\n",
            "1\n",
            "1.2945508475183856\n",
            "1.2945508475183856\n",
            "2\n",
            "1.2968720244327836\n",
            "1.2968720244327836\n",
            "3\n",
            "1.2991547567824409\n",
            "1.2991547567824409\n",
            "5\n",
            "1.301400246595529\n",
            "1.301400246595529\n",
            "9\n",
            "1.3036096412729326\n",
            "1.3036096412729326\n",
            "0\n",
            "1.192012286995023\n",
            "1.282312922160877\n",
            "7\n",
            "1.1939662361245196\n",
            "1.2840050917447234\n",
            "7\n",
            "1.195890106594023\n",
            "1.309773516532647\n",
            "6\n",
            "1.1977847738226555\n",
            "1.2517903616636767\n",
            "8\n",
            "1.1996510761517714\n",
            "1.2535182218722245\n",
            "4\n",
            "1.201489816892113\n",
            "1.2306700102921906\n",
            "7\n",
            "1.2033017662323506\n",
            "1.2320735402159728\n",
            "0\n",
            "1.2050876630200797\n",
            "1.206172178796301\n",
            "1\n",
            "1.206848216425333\n",
            "1.206848216425333\n",
            "1\n",
            "1.208584107495748\n",
            "1.2617886018423763\n",
            "2\n",
            "1.2102959906117234\n",
            "1.2102959906117234\n",
            "3\n",
            "1.2119844948491507\n",
            "1.2119844948491507\n",
            "5\n",
            "1.2136502252566563\n",
            "1.2136502252566563\n",
            "9\n",
            "1.2152937640536838\n",
            "1.2152937640536838\n",
            "1\n",
            "1.1266449886391918\n",
            "1.1788798860034189\n",
            "6\n",
            "1.1281270567061277\n",
            "1.180266233736007\n",
            "8\n",
            "1.1295900797134437\n",
            "1.181634766446593\n",
            "4\n",
            "1.1310345219536477\n",
            "1.1749806955503939\n",
            "7\n",
            "1.1324608312030853\n",
            "1.176118496720323\n",
            "7\n",
            "1.1338694394896827\n",
            "1.1993404224431035\n",
            "7\n",
            "1.1352607638168233\n",
            "1.2176690357195479\n",
            "7\n",
            "1.1366352068463228\n",
            "1.1608653196392662\n",
            "7\n",
            "1.1379931575432323\n",
            "1.1773973238229605\n",
            "0\n",
            "1.1393349917849953\n",
            "1.153236044458035\n",
            "2\n",
            "1.140661072937286\n",
            "1.140661072937286\n",
            "3\n",
            "1.1419717523986854\n",
            "1.1419717523986854\n",
            "5\n",
            "1.1432673701161926\n",
            "1.1432673701161926\n",
            "9\n",
            "1.1445482550734118\n",
            "1.1445482550734118\n",
            "7\n",
            "1.0718115331221472\n",
            "1.1328852032246202\n",
            "7\n",
            "1.0729830131446736\n",
            "1.1478249804273828\n"
          ],
          "name": "stdout"
        }
      ]
    },
    {
      "cell_type": "code",
      "metadata": {
        "id": "rwoS_plHutuQ"
      },
      "source": [
        ""
      ],
      "execution_count": null,
      "outputs": []
    }
  ]
}